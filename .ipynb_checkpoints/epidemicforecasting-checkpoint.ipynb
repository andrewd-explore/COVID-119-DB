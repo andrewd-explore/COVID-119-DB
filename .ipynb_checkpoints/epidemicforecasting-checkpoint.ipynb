{
 "cells": [
  {
   "cell_type": "code",
   "execution_count": 71,
   "metadata": {},
   "outputs": [],
   "source": [
    "from database import model as m\n",
    "from datetime import datetime, timedelta\n",
    "from sqlalchemy import desc\n",
    "from sqlalchemy import create_engine\n",
    "from sqlalchemy.orm import sessionmaker\n",
    "import pandas as pd"
   ]
  },
  {
   "cell_type": "code",
   "execution_count": 72,
   "metadata": {},
   "outputs": [],
   "source": [
    "session.close()"
   ]
  },
  {
   "cell_type": "code",
   "execution_count": 73,
   "metadata": {},
   "outputs": [],
   "source": [
    "secret = {\n",
    "    \"username\": \"admin\",\n",
    "    \"password\": \"corona_must_die\",\n",
    "    \"host\": \"database-1.ccwgqdqrrmvt.eu-west-1.rds.amazonaws.com\",\n",
    "    \"port\": \"1433\"\n",
    "}\n",
    "\n",
    "engine = create_engine(\n",
    "    'mssql+pymssql://' +\n",
    "    secret['username'] + ':' + secret['password'] + '@' + secret['host'] + ':' +\n",
    "    str(secret['port']) + '/Corona'\n",
    "\n",
    ")\n",
    "\n",
    "session = sessionmaker()(bind=engine)"
   ]
  },
  {
   "cell_type": "code",
   "execution_count": 74,
   "metadata": {},
   "outputs": [],
   "source": [
    "df =pd.read_csv(\"countermeasures_db_johnshopkins.csv\")"
   ]
  },
  {
   "cell_type": "code",
   "execution_count": 75,
   "metadata": {},
   "outputs": [],
   "source": [
    "df.drop(['Confirmed Cases', 'Deaths','Unnamed: 0'], axis=1, inplace=True)"
   ]
  },
  {
   "cell_type": "code",
   "execution_count": 76,
   "metadata": {},
   "outputs": [],
   "source": [
    "df = df.melt(id_vars = [\"Date\",\"Country\"])"
   ]
  },
  {
   "cell_type": "code",
   "execution_count": 77,
   "metadata": {},
   "outputs": [],
   "source": [
    "df[\"Date\"] =df[\"Date\"].apply(lambda x: pd.to_datetime(x))"
   ]
  },
  {
   "cell_type": "code",
   "execution_count": 78,
   "metadata": {},
   "outputs": [],
   "source": [
    "df = df[~pd.isnull(df[\"value\"])]"
   ]
  },
  {
   "cell_type": "code",
   "execution_count": 79,
   "metadata": {},
   "outputs": [],
   "source": [
    "df= df.reset_index()"
   ]
  },
  {
   "cell_type": "code",
   "execution_count": 80,
   "metadata": {},
   "outputs": [
    {
     "name": "stdout",
     "output_type": "stream",
     "text": [
      "0\n",
      "100\n",
      "200\n"
     ]
    },
    {
     "ename": "AttributeError",
     "evalue": "'NoneType' object has no attribute 'id'",
     "output_type": "error",
     "traceback": [
      "\u001b[1;31m---------------------------------------------------------------------------\u001b[0m",
      "\u001b[1;31mAttributeError\u001b[0m                            Traceback (most recent call last)",
      "\u001b[1;32m<ipython-input-80-b5d73ffd6dea>\u001b[0m in \u001b[0;36m<module>\u001b[1;34m\u001b[0m\n\u001b[0;32m     37\u001b[0m                                 \u001b[0mmeasure\u001b[0m \u001b[1;33m=\u001b[0m \u001b[0mdf\u001b[0m\u001b[1;33m[\u001b[0m\u001b[1;34m\"variable\"\u001b[0m\u001b[1;33m]\u001b[0m\u001b[1;33m[\u001b[0m\u001b[0mi\u001b[0m\u001b[1;33m]\u001b[0m\u001b[1;33m,\u001b[0m\u001b[1;33m\u001b[0m\u001b[1;33m\u001b[0m\u001b[0m\n\u001b[0;32m     38\u001b[0m                                 \u001b[0mvalue\u001b[0m \u001b[1;33m=\u001b[0m\u001b[0mdf\u001b[0m\u001b[1;33m[\u001b[0m\u001b[1;34m\"value\"\u001b[0m\u001b[1;33m]\u001b[0m\u001b[1;33m[\u001b[0m\u001b[0mi\u001b[0m\u001b[1;33m]\u001b[0m\u001b[1;33m,\u001b[0m\u001b[1;33m\u001b[0m\u001b[1;33m\u001b[0m\u001b[0m\n\u001b[1;32m---> 39\u001b[1;33m                                 country_id = Country.id)\n\u001b[0m\u001b[0;32m     40\u001b[0m \u001b[1;33m\u001b[0m\u001b[0m\n\u001b[0;32m     41\u001b[0m \u001b[1;33m\u001b[0m\u001b[0m\n",
      "\u001b[1;31mAttributeError\u001b[0m: 'NoneType' object has no attribute 'id'"
     ]
    }
   ],
   "source": [
    "for i in range(len(df)):\n",
    "    \n",
    "    if i == 0:\n",
    "        Country = session.query(m.Country).filter(m.Country.country == df[\"Country\"][i]).first()\n",
    "        \n",
    "        CounterMeasures = m.CounterMeasures( \n",
    "                            date = df[\"Date\"][i],\n",
    "                            measure = df[\"variable\"][i],\n",
    "                            value =df[\"value\"][i],\n",
    "                            country_id = Country.id)\n",
    "\n",
    "\n",
    "        session.add(CounterMeasures)\n",
    "\n",
    "        \n",
    "    else:\n",
    "\n",
    "    \n",
    "        if df[\"Country\"][i] == df[\"Country\"][i-1]:\n",
    "\n",
    "            CounterMeasures = m.CounterMeasures( \n",
    "                            date = df[\"Date\"][i],\n",
    "                            measure = df[\"variable\"][i],\n",
    "                            value =df[\"value\"][i],\n",
    "                            country_id = Country.id)\n",
    "\n",
    "\n",
    "            session.add(CounterMeasures)\n",
    "\n",
    "        else:\n",
    "\n",
    "            Country = session.query(m.Country).filter(m.Country.country == df[\"Country\"][i]).first()\n",
    "            \n",
    "            if Country is None:\n",
    "                print(df[\"Country\"][i])\n",
    "                \n",
    "            else: \n",
    "\n",
    "\n",
    "                CounterMeasures = m.CounterMeasures( \n",
    "                                    date = df[\"Date\"][i],\n",
    "                                    measure = df[\"variable\"][i],\n",
    "                                    value =df[\"value\"][i],\n",
    "                                    country_id = Country.id)\n",
    "\n",
    "\n",
    "                session.add(CounterMeasures)\n",
    "\n",
    "    if i%1000 == 0:\n",
    "        session.commit()\n",
    "        print(\"Commiting\")\n",
    "    else:\n",
    "        print(i)\n",
    "        \n",
    "    \n",
    "session.commit()\n",
    "session.close()"
   ]
  },
  {
   "cell_type": "code",
   "execution_count": null,
   "metadata": {},
   "outputs": [],
   "source": []
  }
 ],
 "metadata": {
  "kernelspec": {
   "display_name": "Python 3",
   "language": "python",
   "name": "python3"
  },
  "language_info": {
   "codemirror_mode": {
    "name": "ipython",
    "version": 3
   },
   "file_extension": ".py",
   "mimetype": "text/x-python",
   "name": "python",
   "nbconvert_exporter": "python",
   "pygments_lexer": "ipython3",
   "version": "3.7.4"
  }
 },
 "nbformat": 4,
 "nbformat_minor": 4
}
