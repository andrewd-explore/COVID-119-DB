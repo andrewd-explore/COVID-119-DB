{
 "cells": [
  {
   "cell_type": "markdown",
   "metadata": {},
   "source": [
    "## Overview\n",
    "\n",
    "#### This note book is a pipline connecting to the git hub repository: https://github.com/dsfsi/covid19africa and extrating the following data related to the corona virus:\n",
    "\n",
    "1. Number of tests performed daily \n",
    "2. The Provincial case breakdown for South Africa\n",
    "\n",
    "## Objectives\n",
    "\n",
    "This notebook will:\n",
    "* Connect to RDS instance using SQL Alchemy and pymssql\n",
    "* Clean the data (`covid19za_timeline_testing.csv` and `covid19za_provincial_cumulative_timeline_confirmed.csv`)\n",
    "* Interact with MS SQL Server from Python to update data in RDS instance\n",
    "\n",
    "\n",
    "## Prerequisites \n",
    "\n",
    "* SQL Alchemy and pymssql.\n",
    "* Access to and credentials for an AWS RDS instance.\n",
    "* Tables in your database (This pipline uses the `covid19za_timeline_testing.csv` and `covid19za_provincial_cumulative_timeline_confirmed.csv` database from `dsfsi` git hub repositoy).\n",
    "* Additionaly you will need the Country table in your database \n",
    "\n",
    "### Licence\n",
    "\n",
    "https://github.com/dsfsi/covid19za/blob/master/data/LICENSE.md\n",
    "\n",
    "\n",
    "#### Import Database Structure\n",
    "This is the SQL database structure used"
   ]
  },
  {
   "cell_type": "code",
   "execution_count": 1,
   "metadata": {},
   "outputs": [],
   "source": [
    "from database import model as m"
   ]
  },
  {
   "cell_type": "markdown",
   "metadata": {},
   "source": [
    "### Create connection  \n",
    "You will now use a function of sqlalchemy called `create_engine` to connect to your database. Ensure the credentials below are changed to your own.\n",
    "\n",
    "NB! Make sure you have recent data in your database to query from. For this notebook use the `covid19za_timeline_testing.csv` and `covid19za_provincial_cumulative_timeline_confirmed.csv` database as mentioned above\n",
    "\n",
    "#### Connect to database\n",
    "RDS SQL Server Data Base"
   ]
  },
  {
   "cell_type": "code",
   "execution_count": 2,
   "metadata": {},
   "outputs": [],
   "source": [
    "from sqlalchemy import create_engine\n",
    "from sqlalchemy.orm import sessionmaker\n",
    "import pandas as pd\n",
    "\n",
    "secret = {\n",
    "    \"username\": \"admin\",\n",
    "    \"password\": \"corona_must_die\",\n",
    "    \"host\": \"database-1.ccwgqdqrrmvt.eu-west-1.rds.amazonaws.com\",\n",
    "    \"port\": \"1433\"\n",
    "}\n",
    "\n",
    "engine = create_engine(\n",
    "    'mssql+pymssql://' +\n",
    "    secret['username'] + ':' + secret['password'] + '@' + secret['host'] + ':' +\n",
    "    str(secret['port']) + '/FN'\n",
    "\n",
    ")\n",
    "\n",
    "session = sessionmaker()(bind=engine)"
   ]
  },
  {
   "cell_type": "markdown",
   "metadata": {},
   "source": [
    "### Create a DataFrame from your database"
   ]
  },
  {
   "cell_type": "code",
   "execution_count": 3,
   "metadata": {},
   "outputs": [],
   "source": [
    "df_tests = pd.read_csv(\"https://raw.githubusercontent.com/dsfsi/covid19za/master/data/covid19za_timeline_testing.csv\")\n",
    "df_provices = pd.read_csv(\"https://raw.githubusercontent.com/dsfsi/covid19za/master/data/covid19za_provincial_cumulative_timeline_confirmed.csv\")"
   ]
  },
  {
   "cell_type": "markdown",
   "metadata": {},
   "source": [
    "### Clean your DataFrame"
   ]
  },
  {
   "cell_type": "code",
   "execution_count": 4,
   "metadata": {},
   "outputs": [],
   "source": [
    "#Change the datatype of the date in the database from objet to datetime\n",
    "df_tests[\"date\"] = df_tests[\"date\"].apply(lambda x:pd.to_datetime(x))\n",
    "\n",
    "#Function to convert null values to 0 in cumulative_tests column\n",
    "def error(x):\n",
    "    if pd.isnull(x):\n",
    "        return int(0)\n",
    "    else:\n",
    "        return int(x)\n",
    "    \n",
    "#Change the datatype of the cumulative_tests column in the database from objet to int    \n",
    "df_tests[\"cumulative_tests\"] = df_tests.cumulative_tests.apply(lambda x: error(x))"
   ]
  },
  {
   "cell_type": "code",
   "execution_count": 5,
   "metadata": {},
   "outputs": [],
   "source": [
    "df_provices = df_provices.melt(id_vars = [\"date\",\"YYYYMMDD\"])\n",
    "df_provices[\"date\"] = df_provices[\"date\"].apply(lambda x: pd.to_datetime(x))"
   ]
  },
  {
   "cell_type": "code",
   "execution_count": 6,
   "metadata": {},
   "outputs": [],
   "source": [
    "df_provices[\"value\"] = df_provices.value.apply(lambda x: error(x))"
   ]
  },
  {
   "cell_type": "markdown",
   "metadata": {},
   "source": [
    "### Get Location Data"
   ]
  },
  {
   "cell_type": "code",
   "execution_count": 7,
   "metadata": {},
   "outputs": [
    {
     "name": "stdout",
     "output_type": "stream",
     "text": [
      "No new locations\n"
     ]
    }
   ],
   "source": [
    "Upload_Country = \"South Africa\"\n",
    "level = \"Provincial\"\n",
    "\n",
    "Upload_Country_id = session.query(m.Country).filter(m.Country.country == Upload_Country).first().id\n",
    "\n",
    "for i in range(len(df_provices)):\n",
    "    \n",
    "    Location = session.query(m.Location).filter(m.Location.location == df_provices[\"variable\"][i]).first()\n",
    "    if Location is None:\n",
    "        Location = m.Location(country_id = Upload_Country_id,\n",
    "                              location = df_provices[\"variable\"][i],\n",
    "                              location_level = level)\n",
    "        session.add(Location)\n",
    "        print(\"locations loaded\")\n",
    "        #session.commit()\n",
    "print(\"No new locations\")"
   ]
  },
  {
   "cell_type": "markdown",
   "metadata": {},
   "source": [
    "### Update SQL Data base"
   ]
  },
  {
   "cell_type": "markdown",
   "metadata": {},
   "source": [
    "#### deleting selected records in Tests Table"
   ]
  },
  {
   "cell_type": "code",
   "execution_count": 8,
   "metadata": {},
   "outputs": [],
   "source": [
    " def delete_dates(session):\n",
    "    \n",
    "    print(\"delete records from Tests:\")\n",
    "    dates = []\n",
    "    for test_tbl in session.query(m.Tests).order_by(m.Tests.id):\n",
    "        dates.append(test_tbl.date)\n",
    "    session.close()\n",
    "\n",
    "    prev_3days = dates[-3:]\n",
    "    last_day_SQL = dates[-1]\n",
    "    del_days = []\n",
    "\n",
    "    for i in range(len(prev_3days)):\n",
    "        date_time_str = str(prev_3days[i])\n",
    "        del_days.append(date_time_str[:10])\n",
    "        \n",
    "    pst_3 = session.query(m.Tests).filter(m.Tests.date.in_(del_days))\n",
    "\n",
    "    for inst in pst_3.order_by(m.Tests.id): \n",
    "\n",
    "        print(\"delete record:\", inst.id,inst.date,inst.cumulative_tests)\n",
    "        session.delete(inst)\n",
    "\n",
    "    session.commit()\n",
    "    session.close()\n",
    "    print(\"Delete Complete\") \n",
    "\n",
    "    return (\"Deleted dates on -Tests Table-:\", del_days)  "
   ]
  },
  {
   "cell_type": "code",
   "execution_count": 9,
   "metadata": {},
   "outputs": [
    {
     "name": "stdout",
     "output_type": "stream",
     "text": [
      "delete records from Tests:\n",
      "delete record: 410 2020-03-31 41072\n",
      "delete record: 411 2020-01-04 44292\n",
      "delete record: 412 2020-02-04 47965\n",
      "Delete Complete\n"
     ]
    },
    {
     "data": {
      "text/plain": [
       "('Deleted dates on -Tests Table-:', ['2020-03-31', '2020-01-04', '2020-02-04'])"
      ]
     },
     "execution_count": 9,
     "metadata": {},
     "output_type": "execute_result"
    }
   ],
   "source": [
    "delete_dates(session)"
   ]
  },
  {
   "cell_type": "markdown",
   "metadata": {},
   "source": [
    "#### Inserting selected records in Tests Table"
   ]
  },
  {
   "cell_type": "code",
   "execution_count": 10,
   "metadata": {},
   "outputs": [],
   "source": [
    "def insert_dates(session):\n",
    "\n",
    "    #import datetime from SQL\n",
    "    Adates = []\n",
    "    for test_tbl in session.query(m.Tests).order_by(m.Tests.id):\n",
    "        Adates.append(test_tbl.date)\n",
    "        TestsDB_len = len(Adates)\n",
    "    session.close()\n",
    "    \n",
    "    add_days = TestsDB_len\n",
    "    \n",
    "    Upload_Country = \"South Africa\"\n",
    "\n",
    "    Upload_Country_id = session.query(m.Country).filter(m.Country.country == Upload_Country).first().id\n",
    "\n",
    "\n",
    "    for i in range(add_days,len(df_tests)):\n",
    "        Tests = m.Tests(date = df_tests[\"date\"][i],cumulative_tests = int(df_tests[\"cumulative_tests\"][i]),country_id = Upload_Country_id)\n",
    "        session.add(Tests)\n",
    "        print(\"add record:\",df_tests[\"date\"][i], df_tests[\"cumulative_tests\"][i])\n",
    "\n",
    "    session.commit()\n",
    "    print(\"Update Complete\")\n",
    "    session.close()\n",
    "    \n",
    "    return ((len(df_tests[\"date\"])-TestsDB_len), \"Records inserted\")"
   ]
  },
  {
   "cell_type": "code",
   "execution_count": 11,
   "metadata": {},
   "outputs": [
    {
     "name": "stdout",
     "output_type": "stream",
     "text": [
      "add record: 2020-03-31 00:00:00 41072\n",
      "add record: 2020-01-04 00:00:00 44292\n",
      "add record: 2020-02-04 00:00:00 47965\n",
      "Update Complete\n"
     ]
    },
    {
     "data": {
      "text/plain": [
       "(3, 'Records inserted')"
      ]
     },
     "execution_count": 11,
     "metadata": {},
     "output_type": "execute_result"
    }
   ],
   "source": [
    "insert_dates(session)"
   ]
  },
  {
   "cell_type": "markdown",
   "metadata": {},
   "source": [
    "#### deleting all records in CasesLocal Table"
   ]
  },
  {
   "cell_type": "code",
   "execution_count": null,
   "metadata": {},
   "outputs": [],
   "source": [
    "# delete the records for CasesLocal table\n",
    "count = 0\n",
    "for casesL_tbl in session.query(m.CasesLocal).order_by(m.CasesLocal.id):\n",
    "    \n",
    "    session.delete(casesL_tbl)\n",
    "    session.commit()\n",
    "    \n",
    "    count +=1\n",
    "print(count, \"Records Removed\")\n",
    "session.close()"
   ]
  },
  {
   "cell_type": "markdown",
   "metadata": {},
   "source": [
    "#### Inserting all records in CasesLocal Table"
   ]
  },
  {
   "cell_type": "code",
   "execution_count": null,
   "metadata": {},
   "outputs": [],
   "source": [
    "for i in range(len(df_provices)):\n",
    "    \n",
    "    Location = session.query(m.Location).filter(m.Location.location == df_provices[\"variable\"][i]).first()\n",
    "    \n",
    "    CasesLocal = m.CasesLocal(date = df_provices[\"date\"][i], confirmed = int(df_provices[\"value\"][i]),\n",
    "                              location_id = Location.id)\n",
    "    \n",
    "    session.add(CasesLocal)\n",
    "    session.commit()\n",
    "print(i, \"Records Added\")"
   ]
  },
  {
   "cell_type": "markdown",
   "metadata": {},
   "source": [
    "#### View all records in CasesLocal Table"
   ]
  },
  {
   "cell_type": "code",
   "execution_count": null,
   "metadata": {},
   "outputs": [],
   "source": [
    "# view the records for CasesLocal table sorted by id\n",
    "for casesL_tbl in session.query(m.CasesLocal).order_by(m.CasesLocal.id):\n",
    "    \n",
    "    print(casesL_tbl.id, casesL_tbl.date, casesL_tbl.confirmed, casesL_tbl.location_id)\n",
    "\n",
    "session.close()"
   ]
  },
  {
   "cell_type": "code",
   "execution_count": null,
   "metadata": {},
   "outputs": [],
   "source": []
  }
 ],
 "metadata": {
  "kernelspec": {
   "display_name": "Python 3",
   "language": "python",
   "name": "python3"
  },
  "language_info": {
   "codemirror_mode": {
    "name": "ipython",
    "version": 3
   },
   "file_extension": ".py",
   "mimetype": "text/x-python",
   "name": "python",
   "nbconvert_exporter": "python",
   "pygments_lexer": "ipython3",
   "version": "3.7.4"
  }
 },
 "nbformat": 4,
 "nbformat_minor": 4
}
