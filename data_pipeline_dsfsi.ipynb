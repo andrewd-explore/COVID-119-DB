{
 "cells": [
  {
   "cell_type": "markdown",
   "metadata": {},
   "source": [
    "## Overview"
   ]
  },
  {
   "cell_type": "markdown",
   "metadata": {},
   "source": [
    "#### This note book is a pipline connecting to the git hub repository: https://github.com/dsfsi/covid19africa and extrating the following data related to the corona virus"
   ]
  },
  {
   "cell_type": "markdown",
   "metadata": {},
   "source": [
    "1. Number of tests performed daily \n",
    "2. The Provincial case breakdown for South Africa"
   ]
  },
  {
   "cell_type": "markdown",
   "metadata": {},
   "source": [
    "### Licence"
   ]
  },
  {
   "cell_type": "markdown",
   "metadata": {},
   "source": [
    "\\https://github.com/dsfsi/covid19za/blob/master/data/LICENSE.md"
   ]
  },
  {
   "cell_type": "markdown",
   "metadata": {},
   "source": [
    "\n",
    "\n",
    "\n",
    "\n",
    "\n",
    "\n",
    "\n",
    "\n"
   ]
  },
  {
   "cell_type": "markdown",
   "metadata": {},
   "source": [
    "#### Import Database Structure\n",
    "This is the SQL database structure used\n"
   ]
  },
  {
   "cell_type": "code",
   "execution_count": 254,
   "metadata": {},
   "outputs": [],
   "source": [
    "from database import model as m\n",
    "from datetime import datetime, timedelta\n",
    "from sqlalchemy import desc\n",
    "from sqlalchemy import create_engine\n",
    "from sqlalchemy.orm import sessionmaker\n",
    "import pandas as pd"
   ]
  },
  {
   "cell_type": "code",
   "execution_count": 281,
   "metadata": {},
   "outputs": [],
   "source": [
    "def clean_tests(df):\n",
    "\n",
    "    def error(x):\n",
    "        if pd.isnull(x):\n",
    "            return 0\n",
    "        else:\n",
    "            return x\n",
    "        \n",
    "    df[\"date\"] = df[\"date\"].apply(lambda x:pd.to_datetime(x,dayfirst= True))\n",
    "    df[\"cumulative_tests\"] = df.cumulative_tests.apply(lambda x: error(x))\n",
    "    \n",
    "    return df"
   ]
  },
  {
   "cell_type": "code",
   "execution_count": 285,
   "metadata": {},
   "outputs": [],
   "source": [
    "def clean_provincial_data(df):\n",
    "\n",
    "    def error(x):\n",
    "        if pd.isnull(x):\n",
    "            return 0\n",
    "        else:\n",
    "            return x\n",
    "\n",
    "    df = df.melt(id_vars = [\"date\",\"YYYYMMDD\"])\n",
    "    df[\"date\"] = df[\"date\"].apply(lambda x: pd.to_datetime(x,dayfirst= True))\n",
    "    df = df[df.variable != \"total\"]\n",
    "    df[\"value\"] = df.value.apply(lambda x: error(x))\n",
    "    \n",
    "    return df\n"
   ]
  },
  {
   "cell_type": "code",
   "execution_count": 125,
   "metadata": {},
   "outputs": [],
   "source": [
    "def get_max_date(Table):\n",
    "    \n",
    "    max_date = session.query(Table).order_by(desc('date')).first()\n",
    "    session.commit()\n",
    "    \n",
    "    return max_date.date"
   ]
  },
  {
   "cell_type": "code",
   "execution_count": 303,
   "metadata": {},
   "outputs": [],
   "source": [
    "def delete_old_data(max_date,Table):\n",
    "\n",
    "        session.query(Table).filter(Table.date >=  (max_date  - timedelta(days=3))).delete()\n",
    "        session.commit()"
   ]
  },
  {
   "cell_type": "code",
   "execution_count": 304,
   "metadata": {},
   "outputs": [],
   "source": [
    "def filter_new_data(df,max_date):\n",
    "    \n",
    "    df =df[df[\"date\"] >= max_date - timedelta(days=3)].reset_index()\n",
    "    \n",
    "    return df    "
   ]
  },
  {
   "cell_type": "code",
   "execution_count": 238,
   "metadata": {},
   "outputs": [],
   "source": [
    "def test_upload(upload_country,df):\n",
    "    \n",
    "    \n",
    "    for i in range(len(df)):\n",
    "    \n",
    "        ## Check Country exisits\n",
    "        Country = session.query(m.Country).filter(m.Country.country == upload_country).first()\n",
    "        if Country is None:\n",
    "            Print(\"Country Not Found\")\n",
    "            \n",
    "\n",
    "\n",
    "        Tests = m.Tests( \n",
    "                            date = df[\"date\"][i],\n",
    "                            cumulative_tests = int(df[\"cumulative_tests\"][i]),\n",
    "                            country_id = Country.id\n",
    "        )\n",
    "    \n",
    "        session.add(Tests)\n",
    "\n",
    "    session.commit()\n",
    "    session.close()"
   ]
  },
  {
   "cell_type": "code",
   "execution_count": 239,
   "metadata": {},
   "outputs": [],
   "source": [
    "def provincial_upload(df,upload_country,location_level):\n",
    "    \n",
    "    Upload_Country_id = session.query(m.Country).filter(m.Country.country == upload_country).first().id\n",
    "\n",
    "    for i in range(len(df)):\n",
    "\n",
    "        ## Check Country exisits\n",
    "        Location = session.query(m.Location).filter(m.Location.location == df[\"variable\"][i]).first()\n",
    "        if Location is None:\n",
    "            Location = m.Location(country_id = Upload_Country_id,\n",
    "                                  location = df[\"variable\"][i],\n",
    "                                  location_level = location_level)\n",
    "            session.add(Location)\n",
    "            session.commit()\n",
    "\n",
    "\n",
    "        CasesLocal = m.CasesLocal( \n",
    "                            date = df[\"date\"][i],\n",
    "                            confirmed = int(df[\"value\"][i]),\n",
    "                            location_id = Location.id\n",
    "        )\n",
    "\n",
    "        session.add(CasesLocal)\n",
    "        print(i)\n",
    "\n",
    "    session.commit()\n",
    "    session.close()\n",
    "    "
   ]
  },
  {
   "cell_type": "code",
   "execution_count": 305,
   "metadata": {},
   "outputs": [],
   "source": [
    "def main():\n",
    "\n",
    "\n",
    "    secret = {\n",
    "        \"username\": \"admin\",\n",
    "        \"password\": \"corona_must_die\",\n",
    "        \"host\": \"database-1.ccwgqdqrrmvt.eu-west-1.rds.amazonaws.com\",\n",
    "        \"port\": \"1433\"\n",
    "    }\n",
    "\n",
    "    engine = create_engine(\n",
    "        'mssql+pymssql://' +\n",
    "        secret['username'] + ':' + secret['password'] + '@' + secret['host'] + ':' +\n",
    "        str(secret['port']) + '/Corona'\n",
    "\n",
    "    )\n",
    "\n",
    "    session = sessionmaker()(bind=engine)\n",
    "    \n",
    "    \n",
    "    df_tests = pd.read_csv(\"https://raw.githubusercontent.com/dsfsi/covid19za/master/data/covid19za_timeline_testing.csv\")\n",
    "    df_provices = pd.read_csv(\"https://raw.githubusercontent.com/dsfsi/covid19za/master/data/covid19za_provincial_cumulative_timeline_confirmed.csv\")\n",
    "    \n",
    "    df_tests= clean_tests(df_tests)\n",
    "    df_provices = clean_provincial_data(df_provices)\n",
    "    \n",
    "    max_date_tests = get_max_date(m.Tests)\n",
    "    max_date_cases_local = get_max_date(m.CasesLocal)\n",
    "    \n",
    "    df_provices = filter_new_data(df_provices,max_date_tests)\n",
    "    df_tests = filter_new_data(df_tests,max_date_tests)\n",
    "    \n",
    "    delete_old_data(max_date_tests,m.Tests)\n",
    "    delete_old_data(max_date_cases_local,m.CasesLocal)\n",
    "    \n",
    "    test_upload(\"South Africa\",df_tests)\n",
    "    provincial_upload(df_provices,\"South Africa\",\"Provincial\")\n",
    "\n",
    "    \n",
    "\n",
    "    \n",
    "    \n",
    "    \n",
    "    \n",
    "    "
   ]
  },
  {
   "cell_type": "code",
   "execution_count": 307,
   "metadata": {},
   "outputs": [
    {
     "name": "stdout",
     "output_type": "stream",
     "text": [
      "2020-04-03\n"
     ]
    },
    {
     "name": "stderr",
     "output_type": "stream",
     "text": [
      "c:\\users\\andrew\\appdata\\local\\programs\\python\\python37\\lib\\site-packages\\ipykernel_launcher.py:3: FutureWarning: Comparing Series of datetimes with 'datetime.date'.  Currently, the\n",
      "'datetime.date' is coerced to a datetime. In the future pandas will\n",
      "not coerce, and a TypeError will be raised. To retain the current\n",
      "behavior, convert the 'datetime.date' to a datetime with\n",
      "'pd.Timestamp'.\n",
      "  This is separate from the ipykernel package so we can avoid doing imports until\n"
     ]
    },
    {
     "name": "stdout",
     "output_type": "stream",
     "text": [
      "0\n",
      "1\n",
      "2\n",
      "3\n",
      "4\n",
      "5\n",
      "6\n",
      "7\n",
      "8\n",
      "9\n",
      "10\n",
      "11\n",
      "12\n",
      "13\n",
      "14\n",
      "15\n",
      "16\n",
      "17\n",
      "18\n",
      "19\n",
      "20\n",
      "21\n",
      "22\n",
      "23\n",
      "24\n",
      "25\n",
      "26\n",
      "27\n",
      "28\n",
      "29\n",
      "30\n",
      "31\n",
      "32\n",
      "33\n",
      "34\n",
      "35\n",
      "36\n",
      "37\n",
      "38\n",
      "39\n",
      "   index       date  YYYYMMDD  cumulative_tests  recovered  hospitalisation  \\\n",
      "0     31 2020-03-31  20200331           41072.0         31              NaN   \n",
      "1     32 2020-04-01  20200401           44292.0         31              NaN   \n",
      "2     33 2020-04-02  20200402           47965.0         45              NaN   \n",
      "3     34 2020-04-03  20200403           50361.0         45              NaN   \n",
      "\n",
      "   critical_icu  ventilation  deaths  contacts_identified  contacts_traced  \\\n",
      "0           NaN          NaN       5                  NaN              NaN   \n",
      "1           NaN          NaN       5                  NaN              NaN   \n",
      "2           NaN          NaN       5                  NaN              NaN   \n",
      "3           NaN          NaN       9                  NaN              NaN   \n",
      "\n",
      "   scanned_travellers  passengers_elevated_temperature  \\\n",
      "0                 NaN                              NaN   \n",
      "1                 NaN                              NaN   \n",
      "2                 NaN                              NaN   \n",
      "3                 NaN                              NaN   \n",
      "\n",
      "   covid_suspected_criteria  \n",
      "0                       NaN  \n",
      "1                       NaN  \n",
      "2                       NaN  \n",
      "3                       NaN  \n",
      "    index       date  YYYYMMDD variable  value\n",
      "0      24 2020-03-31  20200331       EC   12.0\n",
      "1      25 2020-04-01  20200401       EC   15.0\n",
      "2      26 2020-04-02  20200402       EC   17.0\n",
      "3      27 2020-04-03  20200403       EC   21.0\n",
      "4      52 2020-03-31  20200331       FS   74.0\n",
      "5      53 2020-04-01  20200401       FS   76.0\n",
      "6      54 2020-04-02  20200402       FS   84.0\n",
      "7      55 2020-04-03  20200403       FS   84.0\n",
      "8      80 2020-03-31  20200331       GP  633.0\n",
      "9      81 2020-04-01  20200401       GP  645.0\n",
      "10     82 2020-04-02  20200402       GP  663.0\n",
      "11     83 2020-04-03  20200403       GP  672.0\n",
      "12    108 2020-03-31  20200331      KZN  179.0\n",
      "13    109 2020-04-01  20200401      KZN  186.0\n",
      "14    110 2020-04-02  20200402      KZN  206.0\n",
      "15    111 2020-04-03  20200403      KZN  215.0\n",
      "16    136 2020-03-31  20200331       LP   14.0\n",
      "17    137 2020-04-01  20200401       LP   14.0\n",
      "18    138 2020-04-02  20200402       LP   16.0\n",
      "19    139 2020-04-03  20200403       LP   16.0\n",
      "20    164 2020-03-31  20200331       MP   12.0\n",
      "21    165 2020-04-01  20200401       MP   12.0\n",
      "22    166 2020-04-02  20200402       MP   13.0\n",
      "23    167 2020-04-03  20200403       MP   13.0\n",
      "24    192 2020-03-31  20200331       NC    6.0\n",
      "25    193 2020-04-01  20200401       NC    7.0\n",
      "26    194 2020-04-02  20200402       NC    7.0\n",
      "27    195 2020-04-03  20200403       NC    7.0\n",
      "28    220 2020-03-31  20200331       NW    8.0\n",
      "29    221 2020-04-01  20200401       NW    9.0\n",
      "30    222 2020-04-02  20200402       NW    9.0\n",
      "31    223 2020-04-03  20200403       NW    9.0\n",
      "32    248 2020-03-31  20200331       WC  325.0\n",
      "33    249 2020-04-01  20200401       WC  326.0\n",
      "34    250 2020-04-02  20200402       WC  353.0\n",
      "35    251 2020-04-03  20200403       WC  374.0\n",
      "36    276 2020-03-31  20200331  UNKNOWN   90.0\n",
      "37    277 2020-04-01  20200401  UNKNOWN   90.0\n",
      "38    278 2020-04-02  20200402  UNKNOWN   94.0\n",
      "39    279 2020-04-03  20200403  UNKNOWN   94.0\n"
     ]
    }
   ],
   "source": [
    "main()"
   ]
  },
  {
   "cell_type": "code",
   "execution_count": null,
   "metadata": {},
   "outputs": [],
   "source": []
  }
 ],
 "metadata": {
  "kernelspec": {
   "display_name": "Python 3",
   "language": "python",
   "name": "python3"
  },
  "language_info": {
   "codemirror_mode": {
    "name": "ipython",
    "version": 3
   },
   "file_extension": ".py",
   "mimetype": "text/x-python",
   "name": "python",
   "nbconvert_exporter": "python",
   "pygments_lexer": "ipython3",
   "version": "3.7.4"
  }
 },
 "nbformat": 4,
 "nbformat_minor": 4
}
