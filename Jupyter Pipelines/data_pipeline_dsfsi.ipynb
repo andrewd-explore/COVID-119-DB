{
 "cells": [
  {
   "cell_type": "markdown",
   "metadata": {},
   "source": [
    "## Overview"
   ]
  },
  {
   "cell_type": "markdown",
   "metadata": {},
   "source": [
    "#### This note book is a pipline connecting to the git hub repository: https://github.com/dsfsi/covid19africa and extrating the following data related to the corona virus"
   ]
  },
  {
   "cell_type": "markdown",
   "metadata": {},
   "source": [
    "1. Number of tests performed daily \n",
    "2. The Provincial case breakdown for South Africa"
   ]
  },
  {
   "cell_type": "markdown",
   "metadata": {},
   "source": [
    "### Licence"
   ]
  },
  {
   "cell_type": "markdown",
   "metadata": {},
   "source": [
    "\\https://github.com/dsfsi/covid19za/blob/master/data/LICENSE.md"
   ]
  },
  {
   "cell_type": "markdown",
   "metadata": {},
   "source": [
    "\n",
    "\n",
    "\n",
    "\n",
    "\n",
    "\n",
    "\n",
    "\n"
   ]
  },
  {
   "cell_type": "markdown",
   "metadata": {},
   "source": [
    "#### Import Database Structure\n",
    "This is the SQL database structure used\n"
   ]
  },
  {
   "cell_type": "code",
   "execution_count": 27,
   "metadata": {},
   "outputs": [],
   "source": [
    "from database import model as m\n",
    "from datetime import datetime, timedelta\n",
    "from sqlalchemy import desc\n",
    "from sqlalchemy import create_engine\n",
    "from sqlalchemy.orm import sessionmaker\n",
    "import pandas as pd\n",
    "import boto3\n",
    "import base64\n",
    "from botocore.exceptions import ClientError\n",
    "import json"
   ]
  },
  {
   "cell_type": "code",
   "execution_count": 11,
   "metadata": {},
   "outputs": [],
   "source": [
    "def clean_tests(df):\n",
    "\n",
    "    def error(x):\n",
    "        if pd.isnull(x):\n",
    "            return 0\n",
    "        else:\n",
    "            return x\n",
    "        \n",
    "    df[\"date\"] = df[\"date\"].apply(lambda x:pd.to_datetime(x,dayfirst= True))\n",
    "    df[\"cumulative_tests\"] = df.cumulative_tests.apply(lambda x: error(x))\n",
    "    \n",
    "    return df"
   ]
  },
  {
   "cell_type": "code",
   "execution_count": 12,
   "metadata": {},
   "outputs": [],
   "source": [
    "def clean_provincial_data(df):\n",
    "\n",
    "    def error(x):\n",
    "        if pd.isnull(x):\n",
    "            return 0\n",
    "        else:\n",
    "            return x\n",
    "\n",
    "    df = df.melt(id_vars = [\"date\",\"YYYYMMDD\"])\n",
    "    df[\"date\"] = df[\"date\"].apply(lambda x: pd.to_datetime(x,dayfirst= True))\n",
    "    df = df[df.variable != \"total\"]\n",
    "    df[\"value\"] = df.value.apply(lambda x: error(x))\n",
    "    \n",
    "    return df\n"
   ]
  },
  {
   "cell_type": "code",
   "execution_count": 13,
   "metadata": {},
   "outputs": [],
   "source": [
    "def get_max_date(Table):\n",
    "    \n",
    "    max_date = session.query(Table).order_by(desc('date')).first()\n",
    "    session.commit()\n",
    "    \n",
    "    return max_date.date"
   ]
  },
  {
   "cell_type": "code",
   "execution_count": 14,
   "metadata": {},
   "outputs": [],
   "source": [
    "def delete_old_data(max_date,Table):\n",
    "\n",
    "        session.query(Table).filter(Table.date >=  (max_date  - timedelta(days=4))).delete()\n",
    "        session.commit()"
   ]
  },
  {
   "cell_type": "code",
   "execution_count": 15,
   "metadata": {},
   "outputs": [],
   "source": [
    "def filter_new_data(df,max_date):\n",
    "    \n",
    "    df =df[df[\"date\"] >= max_date - timedelta(days=4)].reset_index()\n",
    "    \n",
    "    return df    "
   ]
  },
  {
   "cell_type": "code",
   "execution_count": 16,
   "metadata": {},
   "outputs": [],
   "source": [
    "def test_upload(upload_country,df):\n",
    "    \n",
    "    \n",
    "    for i in range(len(df)):\n",
    "    \n",
    "        ## Check Country exisits\n",
    "        Country = session.query(m.Country).filter(m.Country.country == upload_country).first()\n",
    "        if Country is None:\n",
    "            Print(\"Country Not Found\")\n",
    "            \n",
    "\n",
    "\n",
    "        Tests = m.Tests( \n",
    "                            date = df[\"date\"][i],\n",
    "                            cumulative_tests = int(df[\"cumulative_tests\"][i]),\n",
    "                            country_id = Country.id\n",
    "        )\n",
    "    \n",
    "        session.add(Tests)\n",
    "\n",
    "    session.commit()\n",
    "    session.close()"
   ]
  },
  {
   "cell_type": "code",
   "execution_count": 17,
   "metadata": {},
   "outputs": [],
   "source": [
    "def provincial_upload(df,upload_country,location_level):\n",
    "    \n",
    "    Upload_Country_id = session.query(m.Country).filter(m.Country.country == upload_country).first().id\n",
    "\n",
    "    for i in range(len(df)):\n",
    "\n",
    "        ## Check Country exisits\n",
    "        Location = session.query(m.Location).filter(m.Location.location == df[\"variable\"][i]).first()\n",
    "        if Location is None:\n",
    "            Location = m.Location(country_id = Upload_Country_id,\n",
    "                                  location = df[\"variable\"][i],\n",
    "                                  location_level = location_level)\n",
    "            session.add(Location)\n",
    "            session.commit()\n",
    "\n",
    "\n",
    "        CasesLocal = m.CasesLocal( \n",
    "                            date = df[\"date\"][i],\n",
    "                            confirmed = int(df[\"value\"][i]),\n",
    "                            location_id = Location.id\n",
    "        )\n",
    "\n",
    "        session.add(CasesLocal)\n",
    "\n",
    "    session.commit()\n",
    "    session.close()\n",
    "    "
   ]
  },
  {
   "cell_type": "code",
   "execution_count": 32,
   "metadata": {},
   "outputs": [],
   "source": [
    "def get_secret():\n",
    "    secret_name = \"SecretCorona\"\n",
    "    region_name = \"eu-west-1\"\n",
    "    # Create a Secrets Manager client\n",
    "    session = boto3.session.Session()\n",
    "    client = session.client(\n",
    "        service_name='secretsmanager',\n",
    "        region_name=region_name\n",
    "    )\n",
    "    # In this sample we only handle the specific exceptions for the 'GetSecretValue' API.\n",
    "    # See https://docs.aws.amazon.com/secretsmanager/latest/apireference/API_GetSecretValue.html\n",
    "    # We rethrow the exception by default.\n",
    "    get_secret_value_response = client.get_secret_value(\n",
    "        SecretId=secret_name\n",
    "    )\n",
    "    return get_secret_value_response\n",
    "\n",
    "secret = json.loads(get_secret()[\"SecretString\"])\n",
    "\n",
    "engine = create_engine(\n",
    "    'mssql+pymssql://' +\n",
    "    secret['username'] + ':' + secret['password'] + '@' + secret['host'] + ':' +\n",
    "    str(secret['port']) + '/Corona'\n",
    "\n",
    ")\n",
    "\n",
    "session = sessionmaker()(bind=engine)"
   ]
  },
  {
   "cell_type": "code",
   "execution_count": 33,
   "metadata": {},
   "outputs": [],
   "source": [
    "def main():\n",
    "\n",
    "\n",
    "\n",
    "    \n",
    "    \n",
    "    df_tests = pd.read_csv(\"https://raw.githubusercontent.com/dsfsi/covid19za/master/data/covid19za_timeline_testing.csv\")\n",
    "    df_provices = pd.read_csv(\"https://raw.githubusercontent.com/dsfsi/covid19za/master/data/covid19za_provincial_cumulative_timeline_confirmed.csv\")\n",
    "    \n",
    "    df_tests= clean_tests(df_tests)\n",
    "    df_provices = clean_provincial_data(df_provices)\n",
    "    \n",
    "    max_date_tests = get_max_date(m.Tests)\n",
    "    max_date_cases_local = get_max_date(m.CasesLocal)\n",
    "    \n",
    "    df_provices = filter_new_data(df_provices,max_date_tests)\n",
    "    df_tests = filter_new_data(df_tests,max_date_tests)\n",
    "    \n",
    "    delete_old_data(max_date_tests,m.Tests)\n",
    "    delete_old_data(max_date_cases_local,m.CasesLocal)\n",
    "    \n",
    "    test_upload(\"South Africa\",df_tests)\n",
    "    provincial_upload(df_provices,\"South Africa\",\"Provincial\")\n",
    "\n",
    "    \n",
    "\n",
    "    \n",
    "    \n",
    "    \n",
    "    \n",
    "    "
   ]
  },
  {
   "cell_type": "code",
   "execution_count": 34,
   "metadata": {},
   "outputs": [
    {
     "name": "stderr",
     "output_type": "stream",
     "text": [
      "c:\\users\\andrew\\appdata\\local\\programs\\python\\python37\\lib\\site-packages\\ipykernel_launcher.py:3: FutureWarning: Comparing Series of datetimes with 'datetime.date'.  Currently, the\n",
      "'datetime.date' is coerced to a datetime. In the future pandas will\n",
      "not coerce, and a TypeError will be raised. To retain the current\n",
      "behavior, convert the 'datetime.date' to a datetime with\n",
      "'pd.Timestamp'.\n",
      "  This is separate from the ipykernel package so we can avoid doing imports until\n"
     ]
    }
   ],
   "source": [
    "main()"
   ]
  },
  {
   "cell_type": "code",
   "execution_count": null,
   "metadata": {},
   "outputs": [],
   "source": []
  },
  {
   "cell_type": "code",
   "execution_count": null,
   "metadata": {},
   "outputs": [],
   "source": []
  }
 ],
 "metadata": {
  "kernelspec": {
   "display_name": "Python 3",
   "language": "python",
   "name": "python3"
  },
  "language_info": {
   "codemirror_mode": {
    "name": "ipython",
    "version": 3
   },
   "file_extension": ".py",
   "mimetype": "text/x-python",
   "name": "python",
   "nbconvert_exporter": "python",
   "pygments_lexer": "ipython3",
   "version": "3.7.4"
  }
 },
 "nbformat": 4,
 "nbformat_minor": 4
}
